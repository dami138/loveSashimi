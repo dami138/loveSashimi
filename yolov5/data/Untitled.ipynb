{
 "cells": [
  {
   "cell_type": "code",
   "execution_count": 9,
   "metadata": {},
   "outputs": [],
   "source": [
    "from glob import glob\n",
    "import shutil\n",
    "import os\n",
    " \n",
    "data = ['train']\n",
    " \n",
    "for i in data:\n",
    "    source = './images/' + i + '/'\n",
    "    images = './images/' + i\n",
    "    labels =  './labels/'+ i\n",
    "    mydict = {\n",
    "        images: ['jpg','png','gif','jpeg','JPG'],\n",
    "        labels: ['txt','json']\n",
    "    }\n",
    "    for destination, extensions in mydict.items():\n",
    "        for ext in extensions:\n",
    "            for file in glob(source + '*.' + ext):\n",
    "                shutil.move(file, os.path.join(destination,file.split('/')[-1]))"
   ]
  },
  {
   "cell_type": "code",
   "execution_count": null,
   "metadata": {},
   "outputs": [],
   "source": []
  }
 ],
 "metadata": {
  "kernelspec": {
   "display_name": "Python 3 (ipykernel)",
   "language": "python",
   "name": "python3"
  },
  "language_info": {
   "codemirror_mode": {
    "name": "ipython",
    "version": 3
   },
   "file_extension": ".py",
   "mimetype": "text/x-python",
   "name": "python",
   "nbconvert_exporter": "python",
   "pygments_lexer": "ipython3",
   "version": "3.7.4"
  }
 },
 "nbformat": 4,
 "nbformat_minor": 2
}
